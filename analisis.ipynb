{
 "cells": [
  {
   "cell_type": "markdown",
   "metadata": {},
   "source": [
    "Vamos a comenzar estableciendo una puntuación en función de las derrotas, victorias y empates teniendo en cuenta la ronda en la que estamos, siendo la fase de grupos la menor ponerada:\n",
    "\n",
    "Fase de Grupos = Puntos * 0.5\n",
    "RO16 = Puntos * 0.6\n",
    "RO8 = Puntos * 0.7\n",
    "RO4 = Puntos * 0.8\n",
    "SF = Puntos * 0.9\n",
    "F = Puntos * 1\n",
    "\n",
    "Dando 2 puntos por victoria, 1 por empate y -1 por derrota"
   ]
  },
  {
   "cell_type": "code",
   "execution_count": null,
   "metadata": {
    "vscode": {
     "languageId": "plaintext"
    }
   },
   "outputs": [],
   "source": []
  }
 ],
 "metadata": {
  "language_info": {
   "name": "python"
  },
  "orig_nbformat": 4
 },
 "nbformat": 4,
 "nbformat_minor": 2
}
